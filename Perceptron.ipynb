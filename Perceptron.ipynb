{
 "cells": [
  {
   "cell_type": "markdown",
   "metadata": {},
   "source": [
    "## AND GATE"
   ]
  },
  {
   "cell_type": "code",
   "execution_count": 167,
   "metadata": {},
   "outputs": [],
   "source": [
    "import numpy as np"
   ]
  },
  {
   "cell_type": "code",
   "execution_count": 168,
   "metadata": {},
   "outputs": [],
   "source": [
    "def activation(v):\n",
    "    return 1 if v>=1 else 0"
   ]
  },
  {
   "cell_type": "code",
   "execution_count": 169,
   "metadata": {},
   "outputs": [],
   "source": [
    "def perceptron_model(x,w,b):\n",
    "    v=np.dot(w,x)\n",
    "    y=activation(v)\n",
    "    return y"
   ]
  },
  {
   "cell_type": "code",
   "execution_count": 170,
   "metadata": {},
   "outputs": [],
   "source": [
    "def AND_GATE(epochs, eta):\n",
    "    a = np.array([[0, 0], [0, 1], [1, 0], [1, 1]]) \n",
    "    expected_outputs = np.array([0, 0, 0, 1])  \n",
    "\n",
    "    w = np.array([1.2, 0.6])  \n",
    "    bias_val = 0.0\n",
    "\n",
    "    print(f\"Initial Weights: {w}, Initial Bias: {bias_val}\")\n",
    "\n",
    "    \n",
    "    for epoch in range(epochs):\n",
    "        print(f\"\\nEpoch {epoch + 1}/{epochs}\")\n",
    "        total_error = 0\n",
    "\n",
    "        for i in range(len(a)):\n",
    "            x = a[i]  \n",
    "            expected = expected_outputs[i]  \n",
    "\n",
    "            \n",
    "            y_pred = perceptron_model(x, w, bias_val)\n",
    "\n",
    "            \n",
    "            error = expected - y_pred\n",
    "            total_error += abs(error)\n",
    "\n",
    "            \n",
    "            w[0] = w[0] + eta * error * x[0]  \n",
    "            w[1] = w[1] + eta * error * x[1]  \n",
    "\n",
    "            \n",
    "            print(f\"Input: {x}, Predicted: {y_pred}, Expected: {expected}, Error: {error}\")\n",
    "            print(f\"Updated Weights: {w}, Bias: {bias_val}\")\n",
    "\n",
    "        if total_error == 0:\n",
    "            print(\"\\n\\nTraining complete - no more errors.\")\n",
    "            break\n",
    "\n",
    "    print(f\"\\nFinal Weights: {w}, Final Bias: {bias_val}\")\n",
    "    return w, bias_val"
   ]
  },
  {
   "cell_type": "code",
   "execution_count": 171,
   "metadata": {},
   "outputs": [
    {
     "name": "stdout",
     "output_type": "stream",
     "text": [
      "Initial Weights: [1.2 0.6], Initial Bias: 0.0\n",
      "\n",
      "Epoch 1/5\n",
      "Input: [0 0], Predicted: 0, Expected: 0, Error: 0\n",
      "Updated Weights: [1.2 0.6], Bias: 0.0\n",
      "Input: [0 1], Predicted: 0, Expected: 0, Error: 0\n",
      "Updated Weights: [1.2 0.6], Bias: 0.0\n",
      "Input: [1 0], Predicted: 1, Expected: 0, Error: -1\n",
      "Updated Weights: [0.7 0.6], Bias: 0.0\n",
      "Input: [1 1], Predicted: 1, Expected: 1, Error: 0\n",
      "Updated Weights: [0.7 0.6], Bias: 0.0\n",
      "\n",
      "Epoch 2/5\n",
      "Input: [0 0], Predicted: 0, Expected: 0, Error: 0\n",
      "Updated Weights: [0.7 0.6], Bias: 0.0\n",
      "Input: [0 1], Predicted: 0, Expected: 0, Error: 0\n",
      "Updated Weights: [0.7 0.6], Bias: 0.0\n",
      "Input: [1 0], Predicted: 0, Expected: 0, Error: 0\n",
      "Updated Weights: [0.7 0.6], Bias: 0.0\n",
      "Input: [1 1], Predicted: 1, Expected: 1, Error: 0\n",
      "Updated Weights: [0.7 0.6], Bias: 0.0\n",
      "\n",
      "\n",
      "Training complete - no more errors.\n",
      "\n",
      "Final Weights: [0.7 0.6], Final Bias: 0.0\n"
     ]
    }
   ],
   "source": [
    "trained_weights, trained_bias = AND_GATE(5,0.5)"
   ]
  },
  {
   "cell_type": "code",
   "execution_count": 172,
   "metadata": {},
   "outputs": [
    {
     "name": "stdout",
     "output_type": "stream",
     "text": [
      "\n",
      "Testing the trained AND gate:\n",
      "Input: [0 0], Output: 0\n",
      "Input: [0 1], Output: 0\n",
      "Input: [1 0], Output: 0\n",
      "Input: [1 1], Output: 1\n"
     ]
    }
   ],
   "source": [
    "def test_AND_gate(trained_weights, trained_bias):\n",
    "    inputs = np.array([[0, 0], [0, 1], [1, 0], [1, 1]])\n",
    "    print(\"\\nTesting the trained AND gate:\")\n",
    "    \n",
    "    for x in inputs:\n",
    "        output = perceptron_model(x, trained_weights, trained_bias)\n",
    "        print(f\"Input: {x}, Output: {output}\")\n",
    "\n",
    "test_AND_gate(trained_weights, trained_bias)"
   ]
  },
  {
   "cell_type": "markdown",
   "metadata": {},
   "source": [
    "## OR GATE"
   ]
  },
  {
   "cell_type": "code",
   "execution_count": 173,
   "metadata": {},
   "outputs": [],
   "source": [
    "import matplotlib.pyplot as plt"
   ]
  },
  {
   "cell_type": "code",
   "execution_count": 174,
   "metadata": {},
   "outputs": [],
   "source": [
    "x1=[0,0,1,1]\n",
    "x2=[0,1,0,1]\n",
    "y=[0,1,1,1]"
   ]
  },
  {
   "cell_type": "code",
   "execution_count": 175,
   "metadata": {},
   "outputs": [],
   "source": [
    "def predicted(x1,x2,w1,w2):\n",
    "    s=x1*w1+x2*w2\n",
    "    if s>=1:\n",
    "        return 1\n",
    "    else:\n",
    "        return 0"
   ]
  },
  {
   "cell_type": "code",
   "execution_count": 176,
   "metadata": {},
   "outputs": [],
   "source": [
    "def error(x1,x2,w1,w2,y):\n",
    "    return y-predicted(x1,x2,w1,w2)"
   ]
  },
  {
   "cell_type": "code",
   "execution_count": 177,
   "metadata": {},
   "outputs": [],
   "source": [
    "def lossfun(x1,x2,w1,w2,y):\n",
    "    sum=0\n",
    "    for i in range (len(x1)):\n",
    "        sum=sum+error(x1[i],x2[i],w1,w2,y[i])\n",
    "    return sum\n",
    "                    "
   ]
  },
  {
   "cell_type": "code",
   "execution_count": 178,
   "metadata": {},
   "outputs": [],
   "source": [
    "def training(x1,x2,y,lr):\n",
    "    w1=0.2\n",
    "    w2=0.2\n",
    "    \n",
    "    losslist=[]\n",
    "    for epoch in (range(100)):\n",
    "        loss=lossfun(x1,x2,w1,w2,y)\n",
    "        losslist.append(loss)\n",
    "        for i in range(len(x1)):\n",
    "            w1=w1+lr*error(x1[i],x2[i],w1,w2,y[i]) *x1[i]\n",
    "            w2=w2+lr*error(x1[i],x2[i],w1,w2,y[i]) *x2[i]\n",
    "    return w1,w2,losslist"
   ]
  },
  {
   "cell_type": "code",
   "execution_count": 179,
   "metadata": {},
   "outputs": [],
   "source": [
    "w1,w2,losses=training(x1,x2,y,lr=0.01)"
   ]
  },
  {
   "cell_type": "code",
   "execution_count": 180,
   "metadata": {},
   "outputs": [
    {
     "name": "stdout",
     "output_type": "stream",
     "text": [
      "1.0000000000000007 1.0000000000000007\n"
     ]
    }
   ],
   "source": [
    "print(w1,w2)"
   ]
  },
  {
   "cell_type": "code",
   "execution_count": 181,
   "metadata": {},
   "outputs": [
    {
     "name": "stdout",
     "output_type": "stream",
     "text": [
      "[3, 3, 3, 3, 3, 3, 3, 3, 3, 3, 3, 3, 3, 3, 3, 2, 2, 2, 2, 2, 2, 2, 2, 2, 2, 2, 2, 2, 2, 2, 2, 2, 2, 2, 2, 2, 2, 2, 2, 2, 2, 2, 2, 2, 2, 2, 2, 2, 2, 2, 2, 2, 2, 2, 2, 2, 2, 2, 2, 2, 2, 2, 2, 2, 2, 0, 0, 0, 0, 0, 0, 0, 0, 0, 0, 0, 0, 0, 0, 0, 0, 0, 0, 0, 0, 0, 0, 0, 0, 0, 0, 0, 0, 0, 0, 0, 0, 0, 0, 0]\n"
     ]
    }
   ],
   "source": [
    "print(losses)"
   ]
  },
  {
   "cell_type": "code",
   "execution_count": 182,
   "metadata": {},
   "outputs": [
    {
     "name": "stdout",
     "output_type": "stream",
     "text": [
      "0\n"
     ]
    }
   ],
   "source": [
    "print(predicted(0,0,w1,w2))"
   ]
  },
  {
   "cell_type": "code",
   "execution_count": 183,
   "metadata": {},
   "outputs": [
    {
     "name": "stdout",
     "output_type": "stream",
     "text": [
      "1\n"
     ]
    }
   ],
   "source": [
    "print(predicted(0,1,w1,w2))"
   ]
  },
  {
   "cell_type": "code",
   "execution_count": 184,
   "metadata": {},
   "outputs": [],
   "source": [
    "epochs=[x for x in range(len(losses))]"
   ]
  },
  {
   "cell_type": "code",
   "execution_count": 195,
   "metadata": {},
   "outputs": [
    {
     "data": {
      "text/plain": [
       "<function matplotlib.pyplot.show(close=None, block=None)>"
      ]
     },
     "execution_count": 195,
     "metadata": {},
     "output_type": "execute_result"
    },
    {
     "data": {
      "image/png": "[encoded data removed]",
      "text/plain": [
       "<Figure size 640x480 with 1 Axes>"
      ]
     },
     "metadata": {},
     "output_type": "display_data"
    }
   ],
   "source": [
    "plt.plot(epochs,losses,color='g', marker='d')\n",
    "plt.xlabel('Eopch')\n",
    "plt.ylabel('Training loss')\n",
    "plt.show"
   ]
  },
  {
   "cell_type": "code",
   "execution_count": 196,
   "metadata": {},
   "outputs": [
    {
     "data": {
      "image/png": "[encoded data removed]",
      "text/plain": [
       "<Figure size 640x480 with 1 Axes>"
      ]
     },
     "metadata": {},
     "output_type": "display_data"
    }
   ],
   "source": [
    "plt.scatter(x1[0],x2[0],color='r',marker='^')\n",
    "plt.scatter(x1[1:],x2[1:],color='b',marker='*')\n",
    "plt.show()"
   ]
  },
  {
   "cell_type": "code",
   "execution_count": 197,
   "metadata": {},
   "outputs": [],
   "source": [
    "def lineplots(x1,w1,w2,th):\n",
    "    x2=[]\n",
    "    for i in range(len(x1)):\n",
    "        x2.append((0.5-x1[i]*w1)/w2)\n",
    "    return x2"
   ]
  },
  {
   "cell_type": "code",
   "execution_count": 198,
   "metadata": {},
   "outputs": [],
   "source": [
    "x2pred=lineplots(x1,w1,w2,0.5)"
   ]
  },
  {
   "cell_type": "code",
   "execution_count": 199,
   "metadata": {},
   "outputs": [
    {
     "data": {
      "image/png": "[encoded data removed]",
      "text/plain": [
       "<Figure size 640x480 with 1 Axes>"
      ]
     },
     "metadata": {},
     "output_type": "display_data"
    }
   ],
   "source": [
    "plt.scatter(x1[0],x2[0],color='r',marker='^')\n",
    "plt.scatter(x1[1:],x2[1:],color='b',marker='*')\n",
    "plt.plot(x1,x2pred,color='magenta')\n",
    "plt.show()"
   ]
  },
  {
   "cell_type": "code",
   "execution_count": 187,
   "metadata": {},
   "outputs": [
    {
     "data": {
      "text/plain": [
       "<function matplotlib.pyplot.show(close=None, block=None)>"
      ]
     },
     "execution_count": 187,
     "metadata": {},
     "output_type": "execute_result"
    },
    {
     "data": {
      "image/png": "[encoded data removed]",
      "text/plain": [
       "<Figure size 640x480 with 1 Axes>"
      ]
     },
     "metadata": {},
     "output_type": "display_data"
    }
   ],
   "source": [
    "plt.scatter(x1,x2)\n",
    "plt.show"
   ]
  },
  {
   "cell_type": "markdown",
   "metadata": {},
   "source": [
    "## Perceptron learning on dataset"
   ]
  },
  {
   "cell_type": "code",
   "execution_count": 2,
   "metadata": {},
   "outputs": [],
   "source": [
    "import numpy as np\n",
    "import pandas as pd\n",
    "import matplotlib.pyplot as plt\n",
    "import seaborn as sn"
   ]
  },
  {
   "cell_type": "code",
   "execution_count": 40,
   "metadata": {},
   "outputs": [
    {
     "name": "stderr",
     "output_type": "stream",
     "text": [
      "<>:1: SyntaxWarning: invalid escape sequence '\\P'\n",
      "<>:1: SyntaxWarning: invalid escape sequence '\\P'\n",
      "C:\\Users\\karmo\\AppData\\Local\\Temp\\ipykernel_6288\\2323632834.py:1: SyntaxWarning: invalid escape sequence '\\P'\n",
      "  df = pd.read_csv('D:\\PG SEM-III\\Data Science_practical2023\\DATASET\\diabetes.csv')\n"
     ]
    },
    {
     "data": {
      "text/html": [
       "<div>\n",
       "<style scoped>\n",
       "    .dataframe tbody tr th:only-of-type {\n",
       "        vertical-align: middle;\n",
       "    }\n",
       "\n",
       "    .dataframe tbody tr th {\n",
       "        vertical-align: top;\n",
       "    }\n",
       "\n",
       "    .dataframe thead th {\n",
       "        text-align: right;\n",
       "    }\n",
       "</style>\n",
       "<table border=\"1\" class=\"dataframe\">\n",
       "  <thead>\n",
       "    <tr style=\"text-align: right;\">\n",
       "      <th></th>\n",
       "      <th>Pregnancies</th>\n",
       "      <th>Glucose</th>\n",
       "      <th>BloodPressure</th>\n",
       "      <th>SkinThickness</th>\n",
       "      <th>Insulin</th>\n",
       "      <th>BMI</th>\n",
       "      <th>DiabetesPedigreeFunction</th>\n",
       "      <th>Age</th>\n",
       "      <th>Outcome</th>\n",
       "    </tr>\n",
       "  </thead>\n",
       "  <tbody>\n",
       "    <tr>\n",
       "      <th>0</th>\n",
       "      <td>6</td>\n",
       "      <td>148</td>\n",
       "      <td>72</td>\n",
       "      <td>35</td>\n",
       "      <td>0</td>\n",
       "      <td>33.6</td>\n",
       "      <td>0.627</td>\n",
       "      <td>50</td>\n",
       "      <td>1</td>\n",
       "    </tr>\n",
       "    <tr>\n",
       "      <th>1</th>\n",
       "      <td>1</td>\n",
       "      <td>85</td>\n",
       "      <td>66</td>\n",
       "      <td>29</td>\n",
       "      <td>0</td>\n",
       "      <td>26.6</td>\n",
       "      <td>0.351</td>\n",
       "      <td>31</td>\n",
       "      <td>0</td>\n",
       "    </tr>\n",
       "    <tr>\n",
       "      <th>2</th>\n",
       "      <td>8</td>\n",
       "      <td>183</td>\n",
       "      <td>64</td>\n",
       "      <td>0</td>\n",
       "      <td>0</td>\n",
       "      <td>23.3</td>\n",
       "      <td>0.672</td>\n",
       "      <td>32</td>\n",
       "      <td>1</td>\n",
       "    </tr>\n",
       "    <tr>\n",
       "      <th>3</th>\n",
       "      <td>1</td>\n",
       "      <td>89</td>\n",
       "      <td>66</td>\n",
       "      <td>23</td>\n",
       "      <td>94</td>\n",
       "      <td>28.1</td>\n",
       "      <td>0.167</td>\n",
       "      <td>21</td>\n",
       "      <td>0</td>\n",
       "    </tr>\n",
       "    <tr>\n",
       "      <th>4</th>\n",
       "      <td>0</td>\n",
       "      <td>137</td>\n",
       "      <td>40</td>\n",
       "      <td>35</td>\n",
       "      <td>168</td>\n",
       "      <td>43.1</td>\n",
       "      <td>2.288</td>\n",
       "      <td>33</td>\n",
       "      <td>1</td>\n",
       "    </tr>\n",
       "    <tr>\n",
       "      <th>5</th>\n",
       "      <td>5</td>\n",
       "      <td>116</td>\n",
       "      <td>74</td>\n",
       "      <td>0</td>\n",
       "      <td>0</td>\n",
       "      <td>25.6</td>\n",
       "      <td>0.201</td>\n",
       "      <td>30</td>\n",
       "      <td>0</td>\n",
       "    </tr>\n",
       "    <tr>\n",
       "      <th>6</th>\n",
       "      <td>3</td>\n",
       "      <td>78</td>\n",
       "      <td>50</td>\n",
       "      <td>32</td>\n",
       "      <td>88</td>\n",
       "      <td>31.0</td>\n",
       "      <td>0.248</td>\n",
       "      <td>26</td>\n",
       "      <td>1</td>\n",
       "    </tr>\n",
       "    <tr>\n",
       "      <th>7</th>\n",
       "      <td>10</td>\n",
       "      <td>115</td>\n",
       "      <td>0</td>\n",
       "      <td>0</td>\n",
       "      <td>0</td>\n",
       "      <td>35.3</td>\n",
       "      <td>0.134</td>\n",
       "      <td>29</td>\n",
       "      <td>0</td>\n",
       "    </tr>\n",
       "    <tr>\n",
       "      <th>8</th>\n",
       "      <td>2</td>\n",
       "      <td>197</td>\n",
       "      <td>70</td>\n",
       "      <td>45</td>\n",
       "      <td>543</td>\n",
       "      <td>30.5</td>\n",
       "      <td>0.158</td>\n",
       "      <td>53</td>\n",
       "      <td>1</td>\n",
       "    </tr>\n",
       "    <tr>\n",
       "      <th>9</th>\n",
       "      <td>8</td>\n",
       "      <td>125</td>\n",
       "      <td>96</td>\n",
       "      <td>0</td>\n",
       "      <td>0</td>\n",
       "      <td>0.0</td>\n",
       "      <td>0.232</td>\n",
       "      <td>54</td>\n",
       "      <td>1</td>\n",
       "    </tr>\n",
       "  </tbody>\n",
       "</table>\n",
       "</div>"
      ],
      "text/plain": [
       "   Pregnancies  Glucose  BloodPressure  SkinThickness  Insulin   BMI  \\\n",
       "0            6      148             72             35        0  33.6   \n",
       "1            1       85             66             29        0  26.6   \n",
       "2            8      183             64              0        0  23.3   \n",
       "3            1       89             66             23       94  28.1   \n",
       "4            0      137             40             35      168  43.1   \n",
       "5            5      116             74              0        0  25.6   \n",
       "6            3       78             50             32       88  31.0   \n",
       "7           10      115              0              0        0  35.3   \n",
       "8            2      197             70             45      543  30.5   \n",
       "9            8      125             96              0        0   0.0   \n",
       "\n",
       "   DiabetesPedigreeFunction  Age  Outcome  \n",
       "0                     0.627   50        1  \n",
       "1                     0.351   31        0  \n",
       "2                     0.672   32        1  \n",
       "3                     0.167   21        0  \n",
       "4                     2.288   33        1  \n",
       "5                     0.201   30        0  \n",
       "6                     0.248   26        1  \n",
       "7                     0.134   29        0  \n",
       "8                     0.158   53        1  \n",
       "9                     0.232   54        1  "
      ]
     },
     "execution_count": 40,
     "metadata": {},
     "output_type": "execute_result"
    }
   ],
   "source": [
    "df = pd.read_csv('D:\\PG SEM-III\\Data Science_practical2023\\DATASET\\diabetes.csv')\n",
    "df.head(10)"
   ]
  },
  {
   "cell_type": "code",
   "execution_count": 43,
   "metadata": {},
   "outputs": [],
   "source": [
    "a = np.array(df['Pregnancies'])\n",
    "b = np.array(df['Glucose'])\n",
    "c = np.array(df['BloodPressure'])\n",
    "d = np.array(df['SkinThickness'])\n",
    "e = np.array(df['Insulin'])\n",
    "f = np.array(df['BMI'])\n",
    "g = np.array(df['DiabetesPedigreeFunction'])\n",
    "h = np.array(df['Age'])\n",
    "\n",
    "y = np.array(df['Outcome'])"
   ]
  },
  {
   "cell_type": "code",
   "execution_count": 44,
   "metadata": {},
   "outputs": [],
   "source": [
    "def weight_cal(a,b,c,d,e,f,g,h,w1,w2,w3,w4,w5,w6,w7,w8):\n",
    "    return float(w1*a + w2*b + w3*c + w4*d + w5*e + w6*f + w7*g + w8*h)"
   ]
  },
  {
   "cell_type": "code",
   "execution_count": 45,
   "metadata": {},
   "outputs": [],
   "source": [
    "def activationFunction(a,b,c,d,e,f,g,h,w1,w2,w3,w4,w5,w6,w7,w8):\n",
    "    if weight_cal(a,b,c,d,e,f,g,h,w1,w2,w3,w4,w5,w6,w7,w8) >= 0.5:\n",
    "        return 1\n",
    "    else:\n",
    "        return 0"
   ]
  },
  {
   "cell_type": "code",
   "execution_count": 46,
   "metadata": {},
   "outputs": [],
   "source": [
    "def errorFunction(a,b,c,d,e,f,g,h,w1,w2,w3,w4,w5,w6,w7,w8,y):\n",
    "    return (y - activationFunction(a,b,c,d,e,f,g,h,w1,w2,w3,w4,w5,w6,w7,w8))\n"
   ]
  },
  {
   "cell_type": "code",
   "execution_count": 47,
   "metadata": {},
   "outputs": [],
   "source": [
    "def lossFunction(a,b,c,d,e,f,g,h,w1,w2,w3,w4,w5,w6,w7,w8,y):\n",
    "    err = 0\n",
    "    for i in range(len(y)):\n",
    "        err += (errorFunction(a[i],b[i],c[i],d[i],e[i],f[i],g[i],h[i],w1,w2,w3,w4,w5,w6,w7,w8,y[i]))\n",
    "    return err"
   ]
  },
  {
   "cell_type": "code",
   "execution_count": 50,
   "metadata": {},
   "outputs": [],
   "source": [
    "def perceptronTraing(a,b,c,d,e,f,g,h,y):\n",
    "    w1 = 0.4\n",
    "    w2 = 0.6\n",
    "    w3 = 0.3\n",
    "    w4 = 0.7\n",
    "    w5 = 0.1\n",
    "    w6 = 0.8\n",
    "    w7 = 0.7\n",
    "    w8 = 0.5\n",
    "    epoch = 0\n",
    "    lemda = 0.001\n",
    "\n",
    "    epochs_list = []\n",
    "    loss_list = []\n",
    "\n",
    "    while (True):\n",
    "        for i in range(len(y)):\n",
    "            w1 += lemda*(errorFunction(a[i],b[i],c[i],d[i],e[i],f[i],g[i],h[i],w1,w2,w3,w4,w5,w6,w7,w8,y[i]))*a[i]\n",
    "            w2 += lemda*(errorFunction(a[i],b[i],c[i],d[i],e[i],f[i],g[i],h[i],w1,w2,w3,w4,w5,w6,w7,w8,y[i]))*b[i]\n",
    "            \n",
    "            w3 += lemda*(errorFunction(a[i],b[i],c[i],d[i],e[i],f[i],g[i],h[i],w1,w2,w3,w4,w5,w6,w7,w8,y[i]))*c[i]\n",
    "            w4 += lemda*(errorFunction(a[i],b[i],c[i],d[i],e[i],f[i],g[i],h[i],w1,w2,w3,w4,w5,w6,w7,w8,y[i]))*d[i]\n",
    "            \n",
    "            w5 += lemda*(errorFunction(a[i],b[i],c[i],d[i],e[i],f[i],g[i],h[i],w1,w2,w3,w4,w5,w6,w7,w8,y[i]))*e[i]\n",
    "            w6 += lemda*(errorFunction(a[i],b[i],c[i],d[i],e[i],f[i],g[i],h[i],w1,w2,w3,w4,w5,w6,w7,w8,y[i]))*f[i]\n",
    "            \n",
    "            w7 += lemda*(errorFunction(a[i],b[i],c[i],d[i],e[i],f[i],g[i],h[i],w1,w2,w3,w4,w5,w6,w7,w8,y[i]))*g[i]\n",
    "            w8 += lemda*(errorFunction(a[i],b[i],c[i],d[i],e[i],f[i],g[i],h[i],w1,w2,w3,w4,w5,w6,w7,w8,y[i]))*h[i]\n",
    "            \n",
    "        epoch += 1\n",
    "        epochs_list.append(epoch)\n",
    "        loss_list.append(lossFunction(a,b,c,d,e,f,g,h,w1,w2,w3,w4,w5,w6,w7,w8,y))\n",
    "       \n",
    "        if(lossFunction(a,b,c,d,e,f,g,h,w1,w2,w3,w4,w5,w6,w7,w8,y) == 0 or epoch == 1000):\n",
    "            print('After '+str(epoch)+'th Epoch')\n",
    "            print('w1 =  '+str(w1))\n",
    "            print('w2 =  '+str(w2))\n",
    "            \n",
    "            print('w3 =  '+str(w3))\n",
    "            print('w4 =  '+str(w4))\n",
    "            \n",
    "            print('w5 =  '+str(w5))\n",
    "            print('w6 =  '+str(w6))\n",
    "            \n",
    "            print('w7 =  '+str(w7))\n",
    "            print('w8 =  '+str(w8))\n",
    "\n",
    "            print('Loss := ',lossFunction(a,b,c,d,e,f,g,h,w1,w2,w3,w4,w5,w6,w7,w8,y))\n",
    "            break\n",
    "\n",
    "    return w1,w2,w3,w4,w5,w6,w7,w8,loss_list,epochs_list\n",
    "    "
   ]
  },
  {
   "cell_type": "code",
   "execution_count": 51,
   "metadata": {},
   "outputs": [
    {
     "name": "stdout",
     "output_type": "stream",
     "text": [
      "After 387th Epoch\n",
      "w1 =  1.271000000000192\n",
      "w2 =  0.11600000000005198\n",
      "w3 =  -0.23699999999996274\n",
      "w4 =  0.11400000000000238\n",
      "w5 =  0.005999999999986225\n",
      "w6 =  0.04899999999999731\n",
      "w7 =  0.6774459999999943\n",
      "w8 =  -0.2550000000000807\n",
      "Loss :=  0\n"
     ]
    }
   ],
   "source": [
    "w1,w2,w3,w4,w5,w6,w7,w8,loss_list,epochs_list = perceptronTraing(a,b,c,d,e,f,g,h,y)"
   ]
  },
  {
   "cell_type": "code",
   "execution_count": 52,
   "metadata": {},
   "outputs": [
    {
     "data": {
      "image/png": "[encoded data removed]",
      "text/plain": [
       "<Figure size 1000x500 with 1 Axes>"
      ]
     },
     "metadata": {},
     "output_type": "display_data"
    }
   ],
   "source": [
    "plt.figure(figsize=(10, 5))\n",
    "plt.plot(epochs_list, loss_list, marker='o', color='r', label='Loss')\n",
    "plt.title('Loss vs. Epochs')\n",
    "plt.xlabel('Epochs')\n",
    "plt.ylabel('Loss')\n",
    "plt.legend()\n",
    "plt.grid()\n",
    "plt.show()"
   ]
  },
  {
   "cell_type": "code",
   "execution_count": 53,
   "metadata": {},
   "outputs": [],
   "source": [
    "def prediction(a,b,c,d,e,f,g,h):\n",
    "    if (activationFunction(a,b,c,d,e,f,g,h,w1,w2,w3,w4,w5,w6,w7,w8) == 0):\n",
    "        print('Lebel 0:- Not Diabetes')\n",
    "    else:\n",
    "        print('Lebel 1:- Diabetes')"
   ]
  },
  {
   "cell_type": "code",
   "execution_count": 54,
   "metadata": {},
   "outputs": [
    {
     "data": {
      "text/html": [
       "<div>\n",
       "<style scoped>\n",
       "    .dataframe tbody tr th:only-of-type {\n",
       "        vertical-align: middle;\n",
       "    }\n",
       "\n",
       "    .dataframe tbody tr th {\n",
       "        vertical-align: top;\n",
       "    }\n",
       "\n",
       "    .dataframe thead th {\n",
       "        text-align: right;\n",
       "    }\n",
       "</style>\n",
       "<table border=\"1\" class=\"dataframe\">\n",
       "  <thead>\n",
       "    <tr style=\"text-align: right;\">\n",
       "      <th></th>\n",
       "      <th>Pregnancies</th>\n",
       "      <th>Glucose</th>\n",
       "      <th>BloodPressure</th>\n",
       "      <th>SkinThickness</th>\n",
       "      <th>Insulin</th>\n",
       "      <th>BMI</th>\n",
       "      <th>DiabetesPedigreeFunction</th>\n",
       "      <th>Age</th>\n",
       "      <th>Outcome</th>\n",
       "    </tr>\n",
       "  </thead>\n",
       "  <tbody>\n",
       "    <tr>\n",
       "      <th>0</th>\n",
       "      <td>6</td>\n",
       "      <td>148</td>\n",
       "      <td>72</td>\n",
       "      <td>35</td>\n",
       "      <td>0</td>\n",
       "      <td>33.6</td>\n",
       "      <td>0.627</td>\n",
       "      <td>50</td>\n",
       "      <td>1</td>\n",
       "    </tr>\n",
       "    <tr>\n",
       "      <th>1</th>\n",
       "      <td>1</td>\n",
       "      <td>85</td>\n",
       "      <td>66</td>\n",
       "      <td>29</td>\n",
       "      <td>0</td>\n",
       "      <td>26.6</td>\n",
       "      <td>0.351</td>\n",
       "      <td>31</td>\n",
       "      <td>0</td>\n",
       "    </tr>\n",
       "    <tr>\n",
       "      <th>2</th>\n",
       "      <td>8</td>\n",
       "      <td>183</td>\n",
       "      <td>64</td>\n",
       "      <td>0</td>\n",
       "      <td>0</td>\n",
       "      <td>23.3</td>\n",
       "      <td>0.672</td>\n",
       "      <td>32</td>\n",
       "      <td>1</td>\n",
       "    </tr>\n",
       "    <tr>\n",
       "      <th>3</th>\n",
       "      <td>1</td>\n",
       "      <td>89</td>\n",
       "      <td>66</td>\n",
       "      <td>23</td>\n",
       "      <td>94</td>\n",
       "      <td>28.1</td>\n",
       "      <td>0.167</td>\n",
       "      <td>21</td>\n",
       "      <td>0</td>\n",
       "    </tr>\n",
       "    <tr>\n",
       "      <th>4</th>\n",
       "      <td>0</td>\n",
       "      <td>137</td>\n",
       "      <td>40</td>\n",
       "      <td>35</td>\n",
       "      <td>168</td>\n",
       "      <td>43.1</td>\n",
       "      <td>2.288</td>\n",
       "      <td>33</td>\n",
       "      <td>1</td>\n",
       "    </tr>\n",
       "    <tr>\n",
       "      <th>5</th>\n",
       "      <td>5</td>\n",
       "      <td>116</td>\n",
       "      <td>74</td>\n",
       "      <td>0</td>\n",
       "      <td>0</td>\n",
       "      <td>25.6</td>\n",
       "      <td>0.201</td>\n",
       "      <td>30</td>\n",
       "      <td>0</td>\n",
       "    </tr>\n",
       "    <tr>\n",
       "      <th>6</th>\n",
       "      <td>3</td>\n",
       "      <td>78</td>\n",
       "      <td>50</td>\n",
       "      <td>32</td>\n",
       "      <td>88</td>\n",
       "      <td>31.0</td>\n",
       "      <td>0.248</td>\n",
       "      <td>26</td>\n",
       "      <td>1</td>\n",
       "    </tr>\n",
       "    <tr>\n",
       "      <th>7</th>\n",
       "      <td>10</td>\n",
       "      <td>115</td>\n",
       "      <td>0</td>\n",
       "      <td>0</td>\n",
       "      <td>0</td>\n",
       "      <td>35.3</td>\n",
       "      <td>0.134</td>\n",
       "      <td>29</td>\n",
       "      <td>0</td>\n",
       "    </tr>\n",
       "    <tr>\n",
       "      <th>8</th>\n",
       "      <td>2</td>\n",
       "      <td>197</td>\n",
       "      <td>70</td>\n",
       "      <td>45</td>\n",
       "      <td>543</td>\n",
       "      <td>30.5</td>\n",
       "      <td>0.158</td>\n",
       "      <td>53</td>\n",
       "      <td>1</td>\n",
       "    </tr>\n",
       "    <tr>\n",
       "      <th>9</th>\n",
       "      <td>8</td>\n",
       "      <td>125</td>\n",
       "      <td>96</td>\n",
       "      <td>0</td>\n",
       "      <td>0</td>\n",
       "      <td>0.0</td>\n",
       "      <td>0.232</td>\n",
       "      <td>54</td>\n",
       "      <td>1</td>\n",
       "    </tr>\n",
       "    <tr>\n",
       "      <th>10</th>\n",
       "      <td>4</td>\n",
       "      <td>110</td>\n",
       "      <td>92</td>\n",
       "      <td>0</td>\n",
       "      <td>0</td>\n",
       "      <td>37.6</td>\n",
       "      <td>0.191</td>\n",
       "      <td>30</td>\n",
       "      <td>0</td>\n",
       "    </tr>\n",
       "    <tr>\n",
       "      <th>11</th>\n",
       "      <td>10</td>\n",
       "      <td>168</td>\n",
       "      <td>74</td>\n",
       "      <td>0</td>\n",
       "      <td>0</td>\n",
       "      <td>38.0</td>\n",
       "      <td>0.537</td>\n",
       "      <td>34</td>\n",
       "      <td>1</td>\n",
       "    </tr>\n",
       "    <tr>\n",
       "      <th>12</th>\n",
       "      <td>10</td>\n",
       "      <td>139</td>\n",
       "      <td>80</td>\n",
       "      <td>0</td>\n",
       "      <td>0</td>\n",
       "      <td>27.1</td>\n",
       "      <td>1.441</td>\n",
       "      <td>57</td>\n",
       "      <td>0</td>\n",
       "    </tr>\n",
       "    <tr>\n",
       "      <th>13</th>\n",
       "      <td>1</td>\n",
       "      <td>189</td>\n",
       "      <td>60</td>\n",
       "      <td>23</td>\n",
       "      <td>846</td>\n",
       "      <td>30.1</td>\n",
       "      <td>0.398</td>\n",
       "      <td>59</td>\n",
       "      <td>1</td>\n",
       "    </tr>\n",
       "    <tr>\n",
       "      <th>14</th>\n",
       "      <td>5</td>\n",
       "      <td>166</td>\n",
       "      <td>72</td>\n",
       "      <td>19</td>\n",
       "      <td>175</td>\n",
       "      <td>25.8</td>\n",
       "      <td>0.587</td>\n",
       "      <td>51</td>\n",
       "      <td>1</td>\n",
       "    </tr>\n",
       "  </tbody>\n",
       "</table>\n",
       "</div>"
      ],
      "text/plain": [
       "    Pregnancies  Glucose  BloodPressure  SkinThickness  Insulin   BMI  \\\n",
       "0             6      148             72             35        0  33.6   \n",
       "1             1       85             66             29        0  26.6   \n",
       "2             8      183             64              0        0  23.3   \n",
       "3             1       89             66             23       94  28.1   \n",
       "4             0      137             40             35      168  43.1   \n",
       "5             5      116             74              0        0  25.6   \n",
       "6             3       78             50             32       88  31.0   \n",
       "7            10      115              0              0        0  35.3   \n",
       "8             2      197             70             45      543  30.5   \n",
       "9             8      125             96              0        0   0.0   \n",
       "10            4      110             92              0        0  37.6   \n",
       "11           10      168             74              0        0  38.0   \n",
       "12           10      139             80              0        0  27.1   \n",
       "13            1      189             60             23      846  30.1   \n",
       "14            5      166             72             19      175  25.8   \n",
       "\n",
       "    DiabetesPedigreeFunction  Age  Outcome  \n",
       "0                      0.627   50        1  \n",
       "1                      0.351   31        0  \n",
       "2                      0.672   32        1  \n",
       "3                      0.167   21        0  \n",
       "4                      2.288   33        1  \n",
       "5                      0.201   30        0  \n",
       "6                      0.248   26        1  \n",
       "7                      0.134   29        0  \n",
       "8                      0.158   53        1  \n",
       "9                      0.232   54        1  \n",
       "10                     0.191   30        0  \n",
       "11                     0.537   34        1  \n",
       "12                     1.441   57        0  \n",
       "13                     0.398   59        1  \n",
       "14                     0.587   51        1  "
      ]
     },
     "execution_count": 54,
     "metadata": {},
     "output_type": "execute_result"
    }
   ],
   "source": [
    "df.head(15)"
   ]
  },
  {
   "cell_type": "code",
   "execution_count": 55,
   "metadata": {},
   "outputs": [
    {
     "name": "stdout",
     "output_type": "stream",
     "text": [
      "Lebel 1:- Diabetes\n"
     ]
    }
   ],
   "source": [
    "prediction(10,115,0,0,0,35.3,0.134,29)"
   ]
  },
  {
   "cell_type": "code",
   "execution_count": 56,
   "metadata": {},
   "outputs": [
    {
     "name": "stdout",
     "output_type": "stream",
     "text": [
      "Lebel 1:- Diabetes\n"
     ]
    }
   ],
   "source": [
    "prediction(8,183,64,0,0,23.3,0.672,32)"
   ]
  },
  {
   "cell_type": "code",
   "execution_count": 57,
   "metadata": {},
   "outputs": [
    {
     "name": "stdout",
     "output_type": "stream",
     "text": [
      "Lebel 0:- Not Diabetes\n"
     ]
    }
   ],
   "source": [
    "prediction(10,139,80,0,0,27.1,1.441,57)"
   ]
  }
 ],
 "metadata": {
  "kernelspec": {
   "display_name": "Python 3",
   "language": "python",
   "name": "python3"
  },
  "language_info": {
   "codemirror_mode": {
    "name": "ipython",
    "version": 3
   },
   "file_extension": ".py",
   "mimetype": "text/x-python",
   "name": "python",
   "nbconvert_exporter": "python",
   "pygments_lexer": "ipython3",
   "version": "3.12.0"
  }
 },
 "nbformat": 4,
 "nbformat_minor": 2
}
